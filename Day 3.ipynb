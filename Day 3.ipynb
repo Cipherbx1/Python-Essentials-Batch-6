{
 "cells": [
  {
   "cell_type": "code",
   "execution_count": 1,
   "metadata": {},
   "outputs": [
    {
     "name": "stdout",
     "output_type": "stream",
     "text": [
      "Enter a number : 15\n",
      "The sum of the numbers is  120\n"
     ]
    }
   ],
   "source": [
    "num=eval(input(\"Enter a number : \"))\n",
    "sum=0\n",
    "while(num>0):\n",
    "    sum=sum+num\n",
    "    num=num-1\n",
    "print(\"The sum of the numbers is \",sum)"
   ]
  },
  {
   "cell_type": "code",
   "execution_count": 3,
   "metadata": {},
   "outputs": [
    {
     "name": "stdout",
     "output_type": "stream",
     "text": [
      "Enter the number which you want to check: 6\n",
      "6  is not a prime number \n"
     ]
    }
   ],
   "source": [
    "num=eval(input(\"Enter the number which you want to check: \"))\n",
    "if num>1:\n",
    "    for i in range(2,num):\n",
    "        if (num%i) == 0:\n",
    "            print(num,\" is not a prime number \")\n",
    "            break\n",
    "    else:\n",
    "            print(num,\" is a prime number \")\n",
    "else:\n",
    "    print(num,\" is not a prime number\")"
   ]
  }
 ],
 "metadata": {
  "kernelspec": {
   "display_name": "Python 3",
   "language": "python",
   "name": "python3"
  },
  "language_info": {
   "codemirror_mode": {
    "name": "ipython",
    "version": 3
   },
   "file_extension": ".py",
   "mimetype": "text/x-python",
   "name": "python",
   "nbconvert_exporter": "python",
   "pygments_lexer": "ipython3",
   "version": "3.7.6"
  }
 },
 "nbformat": 4,
 "nbformat_minor": 4
}
