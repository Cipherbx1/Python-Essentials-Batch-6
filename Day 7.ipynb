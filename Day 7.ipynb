{
 "cells": [
  {
   "cell_type": "markdown",
   "metadata": {},
   "source": [
    "Code for Adding tupples"
   ]
  },
  {
   "cell_type": "code",
   "execution_count": 14,
   "metadata": {},
   "outputs": [
    {
     "name": "stdout",
     "output_type": "stream",
     "text": [
      "Program to sum tuples\n",
      "\n",
      "[6, 8, 14, 16]\n"
     ]
    }
   ],
   "source": [
    "print(\"Program to sum tuples\\n\")\n",
    "actual_tuple= [(2,4) , (3,5) , (6,8) , (7,9)]\n",
    "sum_tuple = [sum(i) for i in actual_tuple]\n",
    "print(sum_tuple)"
   ]
  },
  {
   "cell_type": "markdown",
   "metadata": {},
   "source": [
    "Code for Swapping keys and values"
   ]
  },
  {
   "cell_type": "code",
   "execution_count": 23,
   "metadata": {},
   "outputs": [
    {
     "name": "stdout",
     "output_type": "stream",
     "text": [
      "Swapping Keys and Values in Dictionary \n",
      "\n",
      "{'FTP': 21, 'SSH': 22, 'telenet': 23, 'http': 80}\n"
     ]
    }
   ],
   "source": [
    "print(\"Swapping Keys and Values in Dictionary \\n\")\n",
    "example_port = {21 : \"FTP\" , 22 : \"SSH\" , 23 : \"telenet\" , 80 : \"http\"}\n",
    "swap_port = {value : key for key,value in example_port.items()}\n",
    "print(swap_port)"
   ]
  }
 ],
 "metadata": {
  "kernelspec": {
   "display_name": "Python 3",
   "language": "python",
   "name": "python3"
  },
  "language_info": {
   "codemirror_mode": {
    "name": "ipython",
    "version": 3
   },
   "file_extension": ".py",
   "mimetype": "text/x-python",
   "name": "python",
   "nbconvert_exporter": "python",
   "pygments_lexer": "ipython3",
   "version": "3.7.6"
  }
 },
 "nbformat": 4,
 "nbformat_minor": 4
}
