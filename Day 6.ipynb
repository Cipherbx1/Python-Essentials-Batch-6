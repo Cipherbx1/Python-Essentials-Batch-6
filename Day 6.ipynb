{
 "cells": [
  {
   "cell_type": "code",
   "execution_count": 18,
   "metadata": {},
   "outputs": [
    {
     "name": "stdout",
     "output_type": "stream",
     "text": [
      "Python Program To Convert A Given List into Dictionary\n",
      "\n",
      "Combined List:\n",
      " {1: 'A', 2: 'B', 3: 'C', 4: 'D', 5: 'E', 6: 'a', 7: 'b', 8: 'c'}\n"
     ]
    }
   ],
   "source": [
    "print(\"Python Program To Convert A Given List into Dictionary\")\n",
    "list1 = [1,2,3,4,5,6,7,8]\n",
    "list2 = [\"A\",\"B\",\"C\",\"D\",\"E\",\"a\",\"b\",\"c\",\"d\",\"e\"]\n",
    "list_Dictionary = {}\n",
    "for lists in list1:\n",
    "    for listing in list2:\n",
    "        list_Dictionary[lists] = listing\n",
    "        list2.remove(listing)\n",
    "        break\n",
    "print(\"\\nCombined List:\\n\",list_Dictionary)"
   ]
  },
  {
   "cell_type": "code",
   "execution_count": null,
   "metadata": {},
   "outputs": [],
   "source": []
  }
 ],
 "metadata": {
  "kernelspec": {
   "display_name": "Python 3",
   "language": "python",
   "name": "python3"
  },
  "language_info": {
   "codemirror_mode": {
    "name": "ipython",
    "version": 3
   },
   "file_extension": ".py",
   "mimetype": "text/x-python",
   "name": "python",
   "nbconvert_exporter": "python",
   "pygments_lexer": "ipython3",
   "version": "3.7.6"
  }
 },
 "nbformat": 4,
 "nbformat_minor": 4
}
